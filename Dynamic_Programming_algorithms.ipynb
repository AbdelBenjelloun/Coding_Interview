{
 "cells": [
  {
   "cell_type": "markdown",
   "metadata": {},
   "source": [
    "# Dynamic Programming algorithms "
   ]
  },
  {
   "cell_type": "code",
   "execution_count": 3,
   "metadata": {
    "collapsed": true
   },
   "outputs": [],
   "source": [
    "#Imports\n",
    "\n",
    "import numpy as np\n",
    "import numpy.random as npr"
   ]
  },
  {
   "cell_type": "markdown",
   "metadata": {},
   "source": [
    "## 1_ Cutting a bar into pieces\n",
    "\n",
    "You have a bar of length N and you need to cut it sush a way that you maximize your profit :\n",
    "    \n",
    "    - Inputs : N length of the bar, price (an array)\n",
    "    - Each piece of length i has a price price(i).\n",
    "\n",
    "Find the best cutting strategy.\n",
    "\n",
    "___________________________________________________________________________________________________\n",
    "___________________________________________________________________________________________________\n",
    "___________________________________________________________________________________________________\n",
    "\n",
    "Idea :\n",
    "\n",
    "Let's define Max_Profit and Best_Cut two arrays of size N such as :\n",
    "    \n",
    "    Max_Profit(i) is the maximal profil that we can get from a bar of length i, One can see that if we beleive that a cut at k<i is a good way in order to get Max_Profit(i) we have :\n",
    "    \n",
    "    - Max_Profit(i) = Max{ Max_Profit(k)+Max_Profit(i-k) : k=1:i-1}\n",
    "    - Max_Profit(0) = 0 and Max_Profit(1) = price(1)\n",
    "    \n",
    "    In Best_Cut[i] we store the value of the best cut k"
   ]
  },
  {
   "cell_type": "code",
   "execution_count": 4,
   "metadata": {
    "collapsed": true
   },
   "outputs": [],
   "source": [
    "def Get_Max_Profit(N, prices):\n",
    "    \n",
    "    #Safety check 1: len(price) should be equal to N+1\n",
    "    if len(prices) != N+1:\n",
    "        print(\"Error in the inputs, we need all the prices : len(price) should be equal to N+1\")\n",
    "        return\n",
    "    #Safety check 2: prices[0] == 0\n",
    "    if prices[0] != 0:\n",
    "        print(\"The price of a bar with 0 length should be 0 : price[0]=0\")\n",
    "        return\n",
    "    \n",
    "    #Initialisation :\n",
    "    Max_Profit = prices\n",
    "    Best_Cut   = np.arange(N+1)\n",
    "    \n",
    "    #loop from 1 to N in order to fill in the tables :\n",
    "    for i in np.arange(1, N+1):        \n",
    "        \n",
    "        for k in np.arange(0, i):\n",
    "                if Max_Profit[i] < Max_Profit[k] + Max_Profit[i-k] :\n",
    "                    \n",
    "                    Max_Profit[i] = Max_Profit[k] + Max_Profit[i-k]\n",
    "                    Best_Cut[i] = k\n",
    "                    \n",
    "    return Max_Profit, Best_Cut   "
   ]
  },
  {
   "cell_type": "code",
   "execution_count": 5,
   "metadata": {
    "collapsed": false
   },
   "outputs": [
    {
     "name": "stdout",
     "output_type": "stream",
     "text": [
      "For the prices :  [0, 10, 1, 1, 2, 1]\n",
      "The best cut strategy is :  [0 1 1 1 1 1]\n",
      "The profit is :  [0, 10, 20, 30, 40, 50] \n",
      "\n",
      "For the prices :  [0, 1, 3, 7, 2, 8, 19, 3, 3, 15, 1]\n",
      "The best cut strategy is :  [0 1 2 3 1 2 6 1 2 3 1]\n",
      "The profit is :  [0, 1, 3, 7, 8, 10, 19, 20, 22, 26, 27] \n",
      "\n"
     ]
    }
   ],
   "source": [
    "# Example 1 :\n",
    "prices = [0, 10, 1, 1, 2, 1]\n",
    "print('For the prices : ', prices)\n",
    "(profit, cut) = Get_Max_Profit(len(prices)-1, prices)\n",
    "print('The best cut strategy is : ', cut)\n",
    "print('The profit is : ', profit, '\\n')\n",
    "\n",
    "# Example 2 :\n",
    "random_prices = [0, 1, 3, 7, 2, 8, 19, 3, 3, 15, 1]\n",
    "print('For the prices : ', random_prices)\n",
    "(profit, cut) = Get_Max_Profit(len(random_prices)-1, random_prices)\n",
    "print('The best cut strategy is : ', cut)\n",
    "print('The profit is : ', profit, '\\n')"
   ]
  },
  {
   "cell_type": "markdown",
   "metadata": {},
   "source": [
    "Now let's find the best cutting strategy for a bar of length N :\n",
    "\n",
    "We can notice that consider the last cut going from the right we have profit[i] = price(k)+profit[i-k] for some k.\n",
    "First we will find the indexes k, then get the best strategy.\n"
   ]
  },
  {
   "cell_type": "code",
   "execution_count": 9,
   "metadata": {
    "collapsed": true
   },
   "outputs": [],
   "source": [
    "def Cutting_Strategy(N, prices):\n",
    "    \n",
    "    #Safety check 1: len(price) should be equal to N+1\n",
    "    if len(prices) != N+1:\n",
    "        print(\"Error in the inputs, we need all the prices : len(price) should be equal to N+1\")\n",
    "        return\n",
    "    #Safety check 2: prices[0] == 0\n",
    "    if prices[0] != 0:\n",
    "        print(\"The price of a bar with 0 length should be 0 : price[0]=0\")\n",
    "        return\n",
    "    \n",
    "    (profit, cut) = Get_Max_Profit(N, prices)\n",
    "    # Compute the indexes k such as : M[i] = p(k)+M[i-k]    \n",
    "    # Start from the end of the bar :\n",
    "    cut_indexes = np.zeros(N+1)\n",
    "    i = N #index of last element in the bar\n",
    "    while i>0 :\n",
    "        j = i #start from this index and find where we cut from there :\n",
    "        while j>0 :\n",
    "            if profit[i] == prices[j] + profit[i-j] :\n",
    "                cut_indexes[i] = j\n",
    "                break\n",
    "            j = j-1           \n",
    "        i = i-1\n",
    "    \n",
    "    # Get the final cutting strategy :\n",
    "    cutting_strategy = []\n",
    "    i = N\n",
    "    while i>0:\n",
    "        cutting_strategy.append(cut_indexes[i])\n",
    "        i = cut_indexes[i]\n",
    "       \n",
    "    return cutting_strategy"
   ]
  },
  {
   "cell_type": "code",
   "execution_count": 10,
   "metadata": {
    "collapsed": false
   },
   "outputs": [
    {
     "name": "stdout",
     "output_type": "stream",
     "text": [
      "[ 0.  1.  2.  3.  4.  5.]\n"
     ]
    }
   ],
   "source": [
    "prices = [0, 10, 1, 1, 2, 1]\n",
    "print( Cutting_Strategy(len(prices)-1, prices) )"
   ]
  }
 ],
 "metadata": {
  "kernelspec": {
   "display_name": "Python 3",
   "language": "python",
   "name": "python3"
  },
  "language_info": {
   "codemirror_mode": {
    "name": "ipython",
    "version": 3
   },
   "file_extension": ".py",
   "mimetype": "text/x-python",
   "name": "python",
   "nbconvert_exporter": "python",
   "pygments_lexer": "ipython3",
   "version": "3.6.0"
  }
 },
 "nbformat": 4,
 "nbformat_minor": 2
}
