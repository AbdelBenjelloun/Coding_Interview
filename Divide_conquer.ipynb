{
 "cells": [
  {
   "cell_type": "markdown",
   "metadata": {},
   "source": [
    "# DIVIDE & CONQUER algorithms "
   ]
  },
  {
   "cell_type": "code",
   "execution_count": 1,
   "metadata": {
    "collapsed": true
   },
   "outputs": [],
   "source": [
    "#Imports\n",
    "\n",
    "import numpy as np\n",
    "import numpy.random as npr"
   ]
  },
  {
   "cell_type": "markdown",
   "metadata": {},
   "source": [
    "## 1_ Find local minimum in an array :\n",
    "\n",
    "\n",
    "For an array A, a local minimum is an i index such as : a[i] <= Max{a[i+1], a[i+1]}. Except for the first and last element. "
   ]
  },
  {
   "cell_type": "code",
   "execution_count": 2,
   "metadata": {
    "collapsed": false
   },
   "outputs": [],
   "source": [
    "def find_local_minimum(A, low, high):\n",
    "    \n",
    "    #first conditions in the inputs :\n",
    "    if low > high :\n",
    "        print('The inputs low and high are not valid : it must satisfy low < high')\n",
    "        return \n",
    "    if low == high :\n",
    "        return low\n",
    "    # Get the mid element in the array :\n",
    "    pivot = int( (low + high)/2 )\n",
    "\n",
    "    # first conditions for the borders :\n",
    "    if pivot==low and A[pivot]<=A[pivot+1] or pivot==high and A[pivot]<=A[pivot-1]: \n",
    "        return pivot\n",
    "    # conditions on the elements in the middle of the array :\n",
    "    if A[pivot] <= np.min([ A[pivot-1], A[pivot+1] ]) :\n",
    "        return pivot\n",
    "    \n",
    "    # if A[pivot] >= A[pivot-1] then look for the minima only in A[:pivot-1]\n",
    "    if A[pivot] >= A[pivot-1]:\n",
    "        return find_local_minimum(A, low, pivot)\n",
    "    # if A[pivot] >= A[pivot+1] then look for the minima only in A[pivot+1:]\n",
    "    elif A[pivot] >= A[pivot+1] :\n",
    "        return find_local_minimum(A, pivot, high)"
   ]
  },
  {
   "cell_type": "markdown",
   "metadata": {},
   "source": [
    "Check the code with examples :"
   ]
  },
  {
   "cell_type": "code",
   "execution_count": 3,
   "metadata": {
    "collapsed": false,
    "scrolled": false
   },
   "outputs": [
    {
     "name": "stdout",
     "output_type": "stream",
     "text": [
      "The local minimum for A1 is at the position :  0\n",
      "The local minimum for A2 is at the position :  1\n",
      "The local minimum for A3 is at the position :  3\n"
     ]
    }
   ],
   "source": [
    "A1 = [1, 2, 3, 5]\n",
    "A2 = [3, 2, 6, 8, 10]\n",
    "A3 = [5, 4, 2, 1, 4]\n",
    "\n",
    "print('The local minimum for A1 is at the position : ', find_local_minimum(A1, 0, len(A1)-1))\n",
    "print('The local minimum for A2 is at the position : ', find_local_minimum(A2, 0, len(A2)-1))\n",
    "print('The local minimum for A3 is at the position : ', find_local_minimum(A3, 0, len(A3)-1))"
   ]
  },
  {
   "cell_type": "markdown",
   "metadata": {},
   "source": [
    "#### Algorithm complexity : O(log(n))"
   ]
  },
  {
   "cell_type": "markdown",
   "metadata": {},
   "source": [
    "## 2_ Median of two sorted arrays :\n",
    "\n",
    "Given two sorted arrays A and B of same length, get the median of these arrays."
   ]
  },
  {
   "cell_type": "code",
   "execution_count": 4,
   "metadata": {
    "collapsed": false
   },
   "outputs": [],
   "source": [
    "def Median_2SortedArrays(A, B):\n",
    "    \n",
    "    if len(A) != len(B):\n",
    "        print('The arrays should have same length')\n",
    "        return\n",
    "    \n",
    "    pivot = int(len(A)/2) # Pivot to get the median\n",
    "    #special case : only 2 elements remaining choose the one from A to return :\n",
    "    if pivot == 0:\n",
    "        return A[pivot]\n",
    "    \n",
    "    median_of_a = A[pivot] # Get the median of A\n",
    "    median_of_b = B[pivot] # Get the median of B\n",
    "\n",
    "    #first case : median_of_a < median_of_b \n",
    "    if median_of_a <= median_of_b :\n",
    "            return Median_2SortedArrays(A[pivot:] , B[:-pivot])\n",
    "    \n",
    "    elif median_of_a > median_of_b : #second case : median_of_a < median_of_b \n",
    "            return Median_2SortedArrays(A[:-pivot] , B[pivot:])"
   ]
  },
  {
   "cell_type": "code",
   "execution_count": 5,
   "metadata": {
    "collapsed": false
   },
   "outputs": [
    {
     "name": "stdout",
     "output_type": "stream",
     "text": [
      "The median of A1 U B1 is :  10\n",
      "The median of A2 U B2 is :  11\n"
     ]
    }
   ],
   "source": [
    "# Example 1 :\n",
    "A1 = [2, 4, 5, 9, 10, 17]\n",
    "B1 = [4, 9, 11, 12, 16, 18]\n",
    "print('The median of A1 U B1 is : ', Median_2SortedArrays(A1, B1) )\n",
    "\n",
    "# Example 2 :\n",
    "A2 = [11, 17, 33, 35]\n",
    "B2 = [4, 9, 11, 15]\n",
    "print('The median of A2 U B2 is : ', Median_2SortedArrays(A2, B2))"
   ]
  },
  {
   "cell_type": "markdown",
   "metadata": {},
   "source": [
    "#### Algorithm complexity : O(log(n))"
   ]
  },
  {
   "cell_type": "markdown",
   "metadata": {},
   "source": [
    "## 3_ Merge Sort algorithm \n",
    "\n",
    "Given an array A, sort it using divide and conquer method -> merge sort"
   ]
  },
  {
   "cell_type": "markdown",
   "metadata": {},
   "source": [
    "First define a function that merge 2 sorted arrays into one sorted array :"
   ]
  },
  {
   "cell_type": "code",
   "execution_count": 6,
   "metadata": {
    "collapsed": true
   },
   "outputs": [],
   "source": [
    "def Merge_2_sorted_arrays(A,B):\n",
    "    \n",
    "    i,j,k = [0,0,0]\n",
    "    Merged = np.zeros(len(A)+len(B))\n",
    "    while i<len(A) and j<len(B):\n",
    "        if A[i] <= B[j]:\n",
    "            Merged[k] = A[i]\n",
    "            i, k = i+1, k+1\n",
    "            \n",
    "        elif B[j] < A[i]:\n",
    "            Merged[k] = B[j]\n",
    "            j, k = j+1, k+1\n",
    "    \n",
    "    while i < len(A):\n",
    "        Merged[k] = A[i]\n",
    "        i, k = i+1, k+1\n",
    "    \n",
    "    while j < len(B):\n",
    "            Merged[k] = B[j]\n",
    "            j, k = j+1, k+1\n",
    "    \n",
    "    return Merged"
   ]
  },
  {
   "cell_type": "code",
   "execution_count": 7,
   "metadata": {
    "collapsed": false
   },
   "outputs": [
    {
     "name": "stdout",
     "output_type": "stream",
     "text": [
      "A U B :  [  1.   2.   5.   6.  10.  18.  19.  20.]\n",
      "C U B :  [  2.   6.  10.  15.   8.  19.  20.]\n"
     ]
    }
   ],
   "source": [
    "#Safety check :\n",
    "A = [1, 5, 10, 18]\n",
    "B = [2, 6, 19, 20]\n",
    "C = [10, 15, 8]\n",
    "\n",
    "print('A U B : ', Merge_2_sorted_arrays(A,B) )\n",
    "print('C U B : ', Merge_2_sorted_arrays(C,B) )"
   ]
  },
  {
   "cell_type": "code",
   "execution_count": 11,
   "metadata": {
    "collapsed": true
   },
   "outputs": [],
   "source": [
    "def MergeSort(A, low, high):\n",
    "    \n",
    "    if high <= low :\n",
    "        print('Please check the parameters : low should be lower than high')\n",
    "        return\n",
    "    \n",
    "    if high - low == 1 :\n",
    "        return A[low:high]\n",
    "    \n",
    "    pivot = int( (low + high)/2 ) #define pivot element\n",
    "    \n",
    "    A_left = MergeSort(A, low, pivot) # recursion left\n",
    "    \n",
    "    A_right = MergeSort(A, pivot, high) # recursion right\n",
    "    \n",
    "    return Merge_2_sorted_arrays(A_left, A_right)"
   ]
  },
  {
   "cell_type": "code",
   "execution_count": 14,
   "metadata": {
    "collapsed": false
   },
   "outputs": [
    {
     "name": "stdout",
     "output_type": "stream",
     "text": [
      "the array : [88 16 48 36 79 63 60 59 97 51]\n",
      "Mergesort result :  [ 16.  36.  48.  51.  59.  60.  63.  79.  88.  97.] \n",
      "\n",
      "the array : [16 59 89  7 98  1 17 25 40 23]\n",
      "Mergesort result :  [  1.   7.  16.  17.  23.  25.  40.  59.  89.  98.] \n",
      "\n",
      "the array : [42 40 72 20 38 17  2 15 86 81]\n",
      "Mergesort result :  [  2.  15.  17.  20.  38.  40.  42.  72.  81.  86.] \n",
      "\n",
      "the array : [99 73 66 88 70 61 25 58 50 93]\n",
      "Mergesort result :  [ 25.  50.  58.  61.  66.  70.  73.  88.  93.  99.] \n",
      "\n"
     ]
    }
   ],
   "source": [
    "for i in range(4):\n",
    "    A = npr.randint(1, 100, 10)\n",
    "    #A = [23, 10, 66, 41, 21,  9, 97, 49, 33, 46]\n",
    "    print('the array :', A)\n",
    "    print('Mergesort result : ', MergeSort(A, 0, len(A)), '\\n')\n"
   ]
  }
 ],
 "metadata": {
  "kernelspec": {
   "display_name": "Python 3",
   "language": "python",
   "name": "python3"
  },
  "language_info": {
   "codemirror_mode": {
    "name": "ipython",
    "version": 3
   },
   "file_extension": ".py",
   "mimetype": "text/x-python",
   "name": "python",
   "nbconvert_exporter": "python",
   "pygments_lexer": "ipython3",
   "version": "3.6.0"
  }
 },
 "nbformat": 4,
 "nbformat_minor": 2
}
